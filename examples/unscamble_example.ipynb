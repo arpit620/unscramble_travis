{
 "cells": [
  {
   "cell_type": "code",
   "execution_count": 1,
   "metadata": {},
   "outputs": [],
   "source": [
    "# Project Flow\n",
    "\n",
    "# import statements\n",
    "# Load Dictionary: Temp return hardcoded words\n",
    "# Input a word\n",
    "# Get all possible permutations.\n",
    "# Check if dictionary word exist and return the list\n",
    "# Variables: # of characters in a word( upto and exactly)\n",
    "# Create a dictionary for 2/3/4/5/... letter word, where key would be # of letters and value would be a list of word.\n",
    "    # Use: DefaultDict (https://docs.python.org/2/library/collections.html#collections.defaultdict)\n",
    "# Add the dictionary as compressed gz format and read it on the fly. Takes less space on github.    \n",
    "    \n",
    "# Future work:\n",
    "    # Do parallel processing to look up for words"
   ]
  },
  {
   "cell_type": "code",
   "execution_count": 22,
   "metadata": {},
   "outputs": [],
   "source": [
    "from itertools import permutations\n",
    "from tqdm import tqdm_notebook as tqdm\n",
    "\n",
    "class Unscramble:\n",
    "    \"\"\"To Do\n",
    "    \"\"\"\n",
    "\n",
    "    def __init__(self, word):\n",
    "        \"\"\"To Do\n",
    "        \"\"\"\n",
    "        self.word = word.lower()\n",
    "        self.generate_words()\n",
    "\n",
    "    def load_dictionary(self):\n",
    "        \"\"\"To Do\n",
    "        \"\"\"\n",
    "        fileName = '../data/words_alpha.txt'\n",
    "        self.dictionary = [line.rstrip('\\n') for line in open(fileName)]\n",
    "        # self.dictionary = [\"hello\", \"world\", \"hell\", \"ehll\", \"ehl\"]\n",
    "\n",
    "    def get_word_lengths(self, upto):\n",
    "        \"\"\" To Do\n",
    "        \"\"\"\n",
    "        orig_word_len = len(self.word)\n",
    "        word_lengths = list(reversed(range(orig_word_len + 1)))\n",
    "        word_lengths = word_lengths[:-upto]\n",
    "        return word_lengths\n",
    "\n",
    "    def create_permutations(self, upto=4, exact_length=None):\n",
    "        \"\"\"To Do\n",
    "        \"\"\"\n",
    "        self._all_permutations = []\n",
    "\n",
    "        # Returns a list of int which specify word lengths\n",
    "        self.word_lengths = self.get_word_lengths(upto)\n",
    "\n",
    "        if exact_length is not None:\n",
    "            self.word_lengths = [exact_length]\n",
    "\n",
    "        for length in tqdm(self.word_lengths, desc=\"Creating all permutations\"):\n",
    "            self.possible_words = permutations(self.word, length)\n",
    "            self.possible_words = map(lambda x: \"\".join(x), list(self.possible_words))\n",
    "            self.possible_words = list(self.possible_words)\n",
    "            self._all_permutations.append(self.possible_words)\n",
    "\n",
    "        self.possible_words = [\n",
    "            word for word_list in self._all_permutations for word in word_list\n",
    "        ]\n",
    "        self.possible_words = list(set(self.possible_words))\n",
    "        return self.possible_words\n",
    "\n",
    "    def total_permutations(self):\n",
    "        \"\"\"To Do\n",
    "        \"\"\"\n",
    "        return len(self.possible_words)\n",
    "\n",
    "    def find_words(self):\n",
    "        \"\"\"To Do\n",
    "        \"\"\"\n",
    "        self.actual_words = [\n",
    "            word for word in tqdm(self.possible_words, desc=\"Lookup\") \n",
    "                if word in self.dictionary\n",
    "        ]\n",
    "        return self.actual_words\n",
    "\n",
    "    def generate_words(self):\n",
    "        \"\"\"To Do\n",
    "        \"\"\"\n",
    "\n",
    "        self.load_dictionary()\n",
    "        self.create_permutations()\n",
    "        #         self.dict_words = self.find_words()\n",
    "        return self.find_words()\n"
   ]
  },
  {
   "cell_type": "code",
   "execution_count": 23,
   "metadata": {},
   "outputs": [
    {
     "data": {
      "application/vnd.jupyter.widget-view+json": {
       "model_id": "cdcc54946c7741c6a3d9a53a0972e065",
       "version_major": 2,
       "version_minor": 0
      },
      "text/plain": [
       "HBox(children=(IntProgress(value=0, description='Creating all permutations', max=3, style=ProgressStyle(descri…"
      ]
     },
     "metadata": {},
     "output_type": "display_data"
    },
    {
     "name": "stdout",
     "output_type": "stream",
     "text": [
      "\n"
     ]
    },
    {
     "data": {
      "application/vnd.jupyter.widget-view+json": {
       "model_id": "fb4606ae718049908c3a182ffd3560b1",
       "version_major": 2,
       "version_minor": 0
      },
      "text/plain": [
       "HBox(children=(IntProgress(value=0, description='Lookup', max=1800, style=ProgressStyle(description_width='ini…"
      ]
     },
     "metadata": {},
     "output_type": "display_data"
    },
    {
     "name": "stdout",
     "output_type": "stream",
     "text": [
      "\n"
     ]
    }
   ],
   "source": [
    "words = Unscramble(\"search\")"
   ]
  },
  {
   "cell_type": "code",
   "execution_count": 24,
   "metadata": {},
   "outputs": [
    {
     "data": {
      "application/vnd.jupyter.widget-view+json": {
       "model_id": "6a7607b7c2d14e8bb4ae72a3f26e4d79",
       "version_major": 2,
       "version_minor": 0
      },
      "text/plain": [
       "HBox(children=(IntProgress(value=0, description='Creating all permutations', max=3, style=ProgressStyle(descri…"
      ]
     },
     "metadata": {},
     "output_type": "display_data"
    },
    {
     "name": "stdout",
     "output_type": "stream",
     "text": [
      "\n"
     ]
    },
    {
     "data": {
      "application/vnd.jupyter.widget-view+json": {
       "model_id": "d9a5981eb7fe4fc8aa963551aa33d4f9",
       "version_major": 2,
       "version_minor": 0
      },
      "text/plain": [
       "HBox(children=(IntProgress(value=0, description='Lookup', max=1800, style=ProgressStyle(description_width='ini…"
      ]
     },
     "metadata": {},
     "output_type": "display_data"
    },
    {
     "name": "stdout",
     "output_type": "stream",
     "text": [
      "\n"
     ]
    },
    {
     "data": {
      "text/plain": [
       "['cesar',\n",
       " 'resh',\n",
       " 'cres',\n",
       " 'cash',\n",
       " 'sear',\n",
       " 'hers',\n",
       " 'ceras',\n",
       " 'shear',\n",
       " 'rase',\n",
       " 'scrae',\n",
       " 'crash',\n",
       " 'chaser',\n",
       " 'seah',\n",
       " 'race',\n",
       " 'hears',\n",
       " 'rhea',\n",
       " 'carse',\n",
       " 'chera',\n",
       " 'each',\n",
       " 'sare',\n",
       " 'ares',\n",
       " 'cera',\n",
       " 'reach',\n",
       " 'arcs',\n",
       " 'arces',\n",
       " 'hear',\n",
       " 'ersh',\n",
       " 'acre',\n",
       " 'escar',\n",
       " 'crea',\n",
       " 'arch',\n",
       " 'search',\n",
       " 'eras',\n",
       " 'hera',\n",
       " 'sera',\n",
       " 'acher',\n",
       " 'rach',\n",
       " 'acres',\n",
       " 'earsh',\n",
       " 'scar',\n",
       " 'care',\n",
       " 'aesc',\n",
       " 'sher',\n",
       " 'shea',\n",
       " 'hare',\n",
       " 'serac',\n",
       " 'arches',\n",
       " 'casher',\n",
       " 'chares',\n",
       " 'scare',\n",
       " 'aches',\n",
       " 'eschar',\n",
       " 'sech',\n",
       " 'haec',\n",
       " 'char',\n",
       " 'acer',\n",
       " 'ache',\n",
       " 'raches',\n",
       " 'echar',\n",
       " 'rheas',\n",
       " 'arse',\n",
       " 'chase',\n",
       " 'case',\n",
       " 'recs',\n",
       " 'rash',\n",
       " 'ears',\n",
       " 'cares',\n",
       " 'aces',\n",
       " 'cars',\n",
       " 'caser',\n",
       " 'chare',\n",
       " 'asher',\n",
       " 'races',\n",
       " 'share',\n",
       " 'rache',\n",
       " 'haes',\n",
       " 'esca',\n",
       " 'cher',\n",
       " 'srac',\n",
       " 'sacre',\n",
       " 'ascher',\n",
       " 'chars',\n",
       " 'recash',\n",
       " 'arche',\n",
       " 'hares']"
      ]
     },
     "execution_count": 24,
     "metadata": {},
     "output_type": "execute_result"
    }
   ],
   "source": [
    "words.generate_words()"
   ]
  },
  {
   "cell_type": "code",
   "execution_count": null,
   "metadata": {},
   "outputs": [],
   "source": []
  },
  {
   "cell_type": "code",
   "execution_count": null,
   "metadata": {},
   "outputs": [],
   "source": []
  }
 ],
 "metadata": {
  "kernelspec": {
   "display_name": "Python 3",
   "language": "python",
   "name": "python3"
  },
  "language_info": {
   "codemirror_mode": {
    "name": "ipython",
    "version": 3
   },
   "file_extension": ".py",
   "mimetype": "text/x-python",
   "name": "python",
   "nbconvert_exporter": "python",
   "pygments_lexer": "ipython3",
   "version": "3.6.8"
  }
 },
 "nbformat": 4,
 "nbformat_minor": 2
}
