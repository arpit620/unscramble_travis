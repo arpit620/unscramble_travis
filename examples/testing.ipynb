{
 "cells": [
  {
   "cell_type": "code",
   "execution_count": 1,
   "metadata": {},
   "outputs": [],
   "source": [
    "# tqdm"
   ]
  },
  {
   "cell_type": "code",
   "execution_count": 3,
   "metadata": {},
   "outputs": [
    {
     "data": {
      "application/vnd.jupyter.widget-view+json": {
       "model_id": "86337eaffefa413780c539aa30ac86c4",
       "version_major": 2,
       "version_minor": 0
      },
      "text/plain": [
       "HBox(children=(IntProgress(value=0, description='1st loop', max=3, style=ProgressStyle(description_width='init…"
      ]
     },
     "metadata": {},
     "output_type": "display_data"
    },
    {
     "data": {
      "application/vnd.jupyter.widget-view+json": {
       "model_id": "ec8f6212da61468bb87dbfb0e3958272",
       "version_major": 2,
       "version_minor": 0
      },
      "text/plain": [
       "HBox(children=(IntProgress(value=0, description='2nd loop', style=ProgressStyle(description_width='initial')),…"
      ]
     },
     "metadata": {},
     "output_type": "display_data"
    },
    {
     "data": {
      "application/vnd.jupyter.widget-view+json": {
       "model_id": "6a74f9f5ca1a4f0cbf3a6cd118e5f695",
       "version_major": 2,
       "version_minor": 0
      },
      "text/plain": [
       "HBox(children=(IntProgress(value=0, description='2nd loop', style=ProgressStyle(description_width='initial')),…"
      ]
     },
     "metadata": {},
     "output_type": "display_data"
    },
    {
     "data": {
      "application/vnd.jupyter.widget-view+json": {
       "model_id": "75a58dfad9f74bae840f19400264ac25",
       "version_major": 2,
       "version_minor": 0
      },
      "text/plain": [
       "HBox(children=(IntProgress(value=0, description='2nd loop', style=ProgressStyle(description_width='initial')),…"
      ]
     },
     "metadata": {},
     "output_type": "display_data"
    },
    {
     "name": "stdout",
     "output_type": "stream",
     "text": [
      "\n"
     ]
    }
   ],
   "source": [
    "from tqdm import tnrange, tqdm_notebook\n",
    "from time import sleep\n",
    "\n",
    "for i in tnrange(3, desc='1st loop'):\n",
    "    for j in tqdm_notebook(range(100), desc='2nd loop'):\n",
    "        sleep(0.01)"
   ]
  },
  {
   "cell_type": "code",
   "execution_count": 6,
   "metadata": {},
   "outputs": [
    {
     "data": {
      "application/vnd.jupyter.widget-view+json": {
       "model_id": "6b7a7697c27d4a86b63940fdfe4055c9",
       "version_major": 2,
       "version_minor": 0
      },
      "text/plain": [
       "HBox(children=(IntProgress(value=0, description='2nd loop', style=ProgressStyle(description_width='initial')),…"
      ]
     },
     "metadata": {},
     "output_type": "display_data"
    },
    {
     "name": "stdout",
     "output_type": "stream",
     "text": [
      "\n"
     ]
    }
   ],
   "source": [
    "for j in tqdm_notebook(range(100), desc='2nd loop'):\n",
    "        sleep(0.01)"
   ]
  },
  {
   "cell_type": "code",
   "execution_count": null,
   "metadata": {},
   "outputs": [],
   "source": []
  },
  {
   "cell_type": "code",
   "execution_count": 38,
   "metadata": {},
   "outputs": [],
   "source": [
    "from collections import defaultdict"
   ]
  },
  {
   "cell_type": "code",
   "execution_count": 39,
   "metadata": {},
   "outputs": [],
   "source": [
    "words = ['rase', 'serac', 'aches', 'sec', 'ear', 'char', 'ers', 'sac', 'her', 'aesc', 'raches', \n",
    "         'shea', 'rach', 'sae', 'echar', 'era', 'ace', 'ash', 'ahs', 'aces', 'cares', 'sch', 'aes',\n",
    "         'ears', 'chars', 'eschar', 'hae', 'ras', 'arse', 'crash', 'rhea', 'sacre', 'reach', 'cash',\n",
    "         'sea', 'search', 'carse', 'cher', 'sah', 'casher', 'acre', 'sera', 'esc', 'cars', 'case', 'sher', \n",
    "         'races', 'rash', 'has', 'ascher', 'arces', 'ach', 'arcs', 'arche', 'ersh', 'acer', 'cera', 'sha', \n",
    "         'rache', 'shr', 'acher', 'ase', 'ars', 'ceras', 'caser', 'cres', 'acres', 'seah', 'aer', 'crea', \n",
    "         'hear', 'che', 'rha', 'rhe', 'haes', 'chs', 'chera', 'scare', 'arches', 'eras', 'sare', 'arc',\n",
    "         'each', 'are', 'recs', 'scrae', 'res', 'earsh', 'cesar', 'ache', 'asher', 'hare', 'care', 'srac',\n",
    "         'rec', 'chare', 'hes', 'car', 'ares', 'reh', 'she', 'scar', 'sech', 'chaser', 'arch', 'rah', \n",
    "         'sar', 'ser', 'recash', 'share', 'escar', 'cha', 'sear', 'crs', 'rea', 'hera', 'race', 'hares',\n",
    "         'scr', 'rheas', 'hers', 'esca', 'cre', 'chase', 'hears', 'chares', 'hrs', 'haec', 'resh', 'shear']"
   ]
  },
  {
   "cell_type": "code",
   "execution_count": 40,
   "metadata": {},
   "outputs": [],
   "source": [
    "dict_words = defaultdict(list)"
   ]
  },
  {
   "cell_type": "code",
   "execution_count": 41,
   "metadata": {},
   "outputs": [
    {
     "data": {
      "application/vnd.jupyter.widget-view+json": {
       "model_id": "dacf37e77a304e7fae8ae57810db5b41",
       "version_major": 2,
       "version_minor": 0
      },
      "text/plain": [
       "HBox(children=(IntProgress(value=0, max=130), HTML(value='')))"
      ]
     },
     "metadata": {},
     "output_type": "display_data"
    },
    {
     "name": "stdout",
     "output_type": "stream",
     "text": [
      "\n"
     ]
    }
   ],
   "source": [
    "for word in tqdm_notebook(words):\n",
    "    dict_words[len(word)].append(word)\n",
    "    "
   ]
  },
  {
   "cell_type": "code",
   "execution_count": 23,
   "metadata": {},
   "outputs": [
    {
     "data": {
      "text/plain": [
       "[]"
      ]
     },
     "execution_count": 23,
     "metadata": {},
     "output_type": "execute_result"
    }
   ],
   "source": [
    "dict_words[7]"
   ]
  },
  {
   "cell_type": "code",
   "execution_count": 24,
   "metadata": {},
   "outputs": [
    {
     "data": {
      "text/plain": [
       "{4: ['rase',\n",
       "  'char',\n",
       "  'aesc',\n",
       "  'shea',\n",
       "  'rach',\n",
       "  'aces',\n",
       "  'ears',\n",
       "  'arse',\n",
       "  'rhea',\n",
       "  'cash',\n",
       "  'cher',\n",
       "  'acre',\n",
       "  'sera',\n",
       "  'cars',\n",
       "  'case',\n",
       "  'sher',\n",
       "  'rash',\n",
       "  'arcs',\n",
       "  'ersh',\n",
       "  'acer',\n",
       "  'cera',\n",
       "  'cres',\n",
       "  'seah',\n",
       "  'crea',\n",
       "  'hear',\n",
       "  'haes',\n",
       "  'eras',\n",
       "  'sare',\n",
       "  'each',\n",
       "  'recs',\n",
       "  'ache',\n",
       "  'hare',\n",
       "  'care',\n",
       "  'srac',\n",
       "  'ares',\n",
       "  'scar',\n",
       "  'sech',\n",
       "  'arch',\n",
       "  'sear',\n",
       "  'hera',\n",
       "  'race',\n",
       "  'hers',\n",
       "  'esca',\n",
       "  'haec',\n",
       "  'resh'],\n",
       " 5: ['serac',\n",
       "  'aches',\n",
       "  'echar',\n",
       "  'cares',\n",
       "  'chars',\n",
       "  'crash',\n",
       "  'sacre',\n",
       "  'reach',\n",
       "  'carse',\n",
       "  'races',\n",
       "  'arces',\n",
       "  'arche',\n",
       "  'rache',\n",
       "  'acher',\n",
       "  'ceras',\n",
       "  'caser',\n",
       "  'acres',\n",
       "  'chera',\n",
       "  'scare',\n",
       "  'scrae',\n",
       "  'earsh',\n",
       "  'cesar',\n",
       "  'asher',\n",
       "  'chare',\n",
       "  'share',\n",
       "  'escar',\n",
       "  'hares',\n",
       "  'rheas',\n",
       "  'chase',\n",
       "  'hears',\n",
       "  'shear'],\n",
       " 3: ['sec',\n",
       "  'ear',\n",
       "  'ers',\n",
       "  'sac',\n",
       "  'her',\n",
       "  'sae',\n",
       "  'era',\n",
       "  'ace',\n",
       "  'ash',\n",
       "  'ahs',\n",
       "  'sch',\n",
       "  'aes',\n",
       "  'hae',\n",
       "  'ras',\n",
       "  'sea',\n",
       "  'sah',\n",
       "  'esc',\n",
       "  'has',\n",
       "  'ach',\n",
       "  'sha',\n",
       "  'shr',\n",
       "  'ase',\n",
       "  'ars',\n",
       "  'aer',\n",
       "  'che',\n",
       "  'rha',\n",
       "  'rhe',\n",
       "  'chs',\n",
       "  'arc',\n",
       "  'are',\n",
       "  'res',\n",
       "  'rec',\n",
       "  'hes',\n",
       "  'car',\n",
       "  'reh',\n",
       "  'she',\n",
       "  'rah',\n",
       "  'sar',\n",
       "  'ser',\n",
       "  'cha',\n",
       "  'crs',\n",
       "  'rea',\n",
       "  'scr',\n",
       "  'cre',\n",
       "  'hrs'],\n",
       " 6: ['raches',\n",
       "  'eschar',\n",
       "  'search',\n",
       "  'casher',\n",
       "  'ascher',\n",
       "  'arches',\n",
       "  'chaser',\n",
       "  'recash',\n",
       "  'chares'],\n",
       " 2: [],\n",
       " 1: [],\n",
       " 7: []}"
      ]
     },
     "execution_count": 24,
     "metadata": {},
     "output_type": "execute_result"
    }
   ],
   "source": [
    "dict(dict_words)"
   ]
  },
  {
   "cell_type": "code",
   "execution_count": 25,
   "metadata": {},
   "outputs": [],
   "source": [
    "a = {'a':[1,2,3], 'b':[4,5,6], 'c':[7,8,9]}"
   ]
  },
  {
   "cell_type": "code",
   "execution_count": 26,
   "metadata": {},
   "outputs": [
    {
     "data": {
      "text/plain": [
       "{'a': [1, 2, 3], 'b': [4, 5, 6], 'c': [7, 8, 9]}"
      ]
     },
     "execution_count": 26,
     "metadata": {},
     "output_type": "execute_result"
    }
   ],
   "source": [
    "a"
   ]
  },
  {
   "cell_type": "code",
   "execution_count": 44,
   "metadata": {},
   "outputs": [
    {
     "name": "stdout",
     "output_type": "stream",
     "text": [
      "4  letter words: \n",
      "\n",
      "['rase', 'char', 'aesc', 'shea', 'rach', 'aces', 'ears', 'arse', 'rhea', 'cash', 'cher', 'acre', 'sera', 'cars', 'case', 'sher', 'rash', 'arcs', 'ersh', 'acer', 'cera', 'cres', 'seah', 'crea', 'hear', 'haes', 'eras', 'sare', 'each', 'recs', 'ache', 'hare', 'care', 'srac', 'ares', 'scar', 'sech', 'arch', 'sear', 'hera', 'race', 'hers', 'esca', 'haec', 'resh']\n",
      "\n",
      "\n",
      "5  letter words: \n",
      "\n",
      "['serac', 'aches', 'echar', 'cares', 'chars', 'crash', 'sacre', 'reach', 'carse', 'races', 'arces', 'arche', 'rache', 'acher', 'ceras', 'caser', 'acres', 'chera', 'scare', 'scrae', 'earsh', 'cesar', 'asher', 'chare', 'share', 'escar', 'hares', 'rheas', 'chase', 'hears', 'shear']\n",
      "\n",
      "\n",
      "3  letter words: \n",
      "\n",
      "['sec', 'ear', 'ers', 'sac', 'her', 'sae', 'era', 'ace', 'ash', 'ahs', 'sch', 'aes', 'hae', 'ras', 'sea', 'sah', 'esc', 'has', 'ach', 'sha', 'shr', 'ase', 'ars', 'aer', 'che', 'rha', 'rhe', 'chs', 'arc', 'are', 'res', 'rec', 'hes', 'car', 'reh', 'she', 'rah', 'sar', 'ser', 'cha', 'crs', 'rea', 'scr', 'cre', 'hrs']\n",
      "\n",
      "\n",
      "6  letter words: \n",
      "\n",
      "['raches', 'eschar', 'search', 'casher', 'ascher', 'arches', 'chaser', 'recash', 'chares']\n",
      "\n",
      "\n"
     ]
    }
   ],
   "source": [
    "for x,y in dict_words.items():\n",
    "    print(x, \" letter words: \\n\")\n",
    "    print(y)\n",
    "    print('\\n')"
   ]
  },
  {
   "cell_type": "code",
   "execution_count": 48,
   "metadata": {},
   "outputs": [
    {
     "data": {
      "text/plain": [
       "[(6,\n",
       "  ['raches',\n",
       "   'eschar',\n",
       "   'search',\n",
       "   'casher',\n",
       "   'ascher',\n",
       "   'arches',\n",
       "   'chaser',\n",
       "   'recash',\n",
       "   'chares']),\n",
       " (5,\n",
       "  ['serac',\n",
       "   'aches',\n",
       "   'echar',\n",
       "   'cares',\n",
       "   'chars',\n",
       "   'crash',\n",
       "   'sacre',\n",
       "   'reach',\n",
       "   'carse',\n",
       "   'races',\n",
       "   'arces',\n",
       "   'arche',\n",
       "   'rache',\n",
       "   'acher',\n",
       "   'ceras',\n",
       "   'caser',\n",
       "   'acres',\n",
       "   'chera',\n",
       "   'scare',\n",
       "   'scrae',\n",
       "   'earsh',\n",
       "   'cesar',\n",
       "   'asher',\n",
       "   'chare',\n",
       "   'share',\n",
       "   'escar',\n",
       "   'hares',\n",
       "   'rheas',\n",
       "   'chase',\n",
       "   'hears',\n",
       "   'shear']),\n",
       " (4,\n",
       "  ['rase',\n",
       "   'char',\n",
       "   'aesc',\n",
       "   'shea',\n",
       "   'rach',\n",
       "   'aces',\n",
       "   'ears',\n",
       "   'arse',\n",
       "   'rhea',\n",
       "   'cash',\n",
       "   'cher',\n",
       "   'acre',\n",
       "   'sera',\n",
       "   'cars',\n",
       "   'case',\n",
       "   'sher',\n",
       "   'rash',\n",
       "   'arcs',\n",
       "   'ersh',\n",
       "   'acer',\n",
       "   'cera',\n",
       "   'cres',\n",
       "   'seah',\n",
       "   'crea',\n",
       "   'hear',\n",
       "   'haes',\n",
       "   'eras',\n",
       "   'sare',\n",
       "   'each',\n",
       "   'recs',\n",
       "   'ache',\n",
       "   'hare',\n",
       "   'care',\n",
       "   'srac',\n",
       "   'ares',\n",
       "   'scar',\n",
       "   'sech',\n",
       "   'arch',\n",
       "   'sear',\n",
       "   'hera',\n",
       "   'race',\n",
       "   'hers',\n",
       "   'esca',\n",
       "   'haec',\n",
       "   'resh']),\n",
       " (3,\n",
       "  ['sec',\n",
       "   'ear',\n",
       "   'ers',\n",
       "   'sac',\n",
       "   'her',\n",
       "   'sae',\n",
       "   'era',\n",
       "   'ace',\n",
       "   'ash',\n",
       "   'ahs',\n",
       "   'sch',\n",
       "   'aes',\n",
       "   'hae',\n",
       "   'ras',\n",
       "   'sea',\n",
       "   'sah',\n",
       "   'esc',\n",
       "   'has',\n",
       "   'ach',\n",
       "   'sha',\n",
       "   'shr',\n",
       "   'ase',\n",
       "   'ars',\n",
       "   'aer',\n",
       "   'che',\n",
       "   'rha',\n",
       "   'rhe',\n",
       "   'chs',\n",
       "   'arc',\n",
       "   'are',\n",
       "   'res',\n",
       "   'rec',\n",
       "   'hes',\n",
       "   'car',\n",
       "   'reh',\n",
       "   'she',\n",
       "   'rah',\n",
       "   'sar',\n",
       "   'ser',\n",
       "   'cha',\n",
       "   'crs',\n",
       "   'rea',\n",
       "   'scr',\n",
       "   'cre',\n",
       "   'hrs'])]"
      ]
     },
     "execution_count": 48,
     "metadata": {},
     "output_type": "execute_result"
    }
   ],
   "source": [
    "sorted(dict_words.items(), reverse=True)"
   ]
  },
  {
   "cell_type": "code",
   "execution_count": null,
   "metadata": {},
   "outputs": [],
   "source": []
  },
  {
   "cell_type": "code",
   "execution_count": null,
   "metadata": {},
   "outputs": [],
   "source": []
  },
  {
   "cell_type": "code",
   "execution_count": null,
   "metadata": {},
   "outputs": [],
   "source": []
  },
  {
   "cell_type": "code",
   "execution_count": null,
   "metadata": {},
   "outputs": [],
   "source": []
  }
 ],
 "metadata": {
  "kernelspec": {
   "display_name": "Python 3",
   "language": "python",
   "name": "python3"
  },
  "language_info": {
   "codemirror_mode": {
    "name": "ipython",
    "version": 3
   },
   "file_extension": ".py",
   "mimetype": "text/x-python",
   "name": "python",
   "nbconvert_exporter": "python",
   "pygments_lexer": "ipython3",
   "version": "3.6.8"
  }
 },
 "nbformat": 4,
 "nbformat_minor": 2
}
